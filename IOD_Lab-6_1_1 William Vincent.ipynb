{
 "cells": [
  {
   "cell_type": "markdown",
   "metadata": {
    "id": "9buSDVQSZdoN"
   },
   "source": [
    "<div>\n",
    "<img src=https://www.institutedata.com/wp-content/uploads/2019/10/iod_h_tp_primary_c.svg width=\"300\">\n",
    "</div>"
   ]
  },
  {
   "cell_type": "markdown",
   "metadata": {
    "id": "o59uK883ZdoO"
   },
   "source": [
    "# Lab 6.1.1: K-Means by the algorithm\n",
    "\n",
    "### Australian athletes data set\n",
    "\n",
    "##### Description\n",
    "These data were collected in a study of how data on various characteristics of the blood varied with sport, body size, and sex of the athlete.\n",
    "\n",
    "Usage\n",
    "data(ais)\n",
    "Format\n",
    "A data frame with 202 observations on the following 13 variables.\n",
    "\n",
    "rcc\n",
    "red blood cell count, in\n",
    "\n",
    "wcc\n",
    "white blood cell count, in per liter\n",
    "\n",
    "hc\n",
    "hematocrit, percent\n",
    "\n",
    "hg\n",
    "hemaglobin concentration, in g per decaliter\n",
    "\n",
    "ferr\n",
    "plasma ferritins, ng\n",
    "\n",
    "bmi\n",
    "Body mass index, kg\n",
    "\n",
    "ssf\n",
    "sum of skin folds\n",
    "\n",
    "pcBfat\n",
    "percent Body fat\n",
    "\n",
    "lbm\n",
    "lean body mass, kg\n",
    "\n",
    "ht\n",
    "height, cm\n",
    "\n",
    "wt\n",
    "weight, kg\n",
    "\n",
    "sex\n",
    "a factor with levels f m\n",
    "\n",
    "sport\n",
    "a factor with levels B_Ball Field Gym Netball Row Swim T_400m T_Sprnt Tennis W_Polo\n",
    "\n",
    "Source\n",
    "These data were the basis for the analyses that are reported in Telford and Cunningham (1991).\n",
    "\n",
    "References\n",
    "Telford, R.D. and Cunningham, R.B. 1991. Sex, sport and body-size dependency of hematology in highly trained athletes. Medicine and Science in Sports and Exercise 23: 788-794.\n",
    "\n",
    "**References**\n",
    "\n",
    "[Data](http://vincentarelbundock.github.io/Rdatasets/csv/DAAG/ais.csv)\n",
    "\n",
    "[Data Dictionary](http://vincentarelbundock.github.io/Rdatasets/doc/DAAG/ais.html)"
   ]
  },
  {
   "cell_type": "code",
   "execution_count": 1,
   "metadata": {
    "id": "dctXfVrBYw0S"
   },
   "outputs": [],
   "source": [
    "# Set the number of threads to be 1 for K Means to proceed without warnings\n",
    "import os\n",
    "os.environ['OMP_NUM_THREADS'] = '1'\n"
   ]
  },
  {
   "cell_type": "code",
   "execution_count": 30,
   "metadata": {
    "id": "I5rfFoKjZdoP"
   },
   "outputs": [],
   "source": [
    "# IMPORT LIBRARIES\n",
    "import pandas as pd\n",
    "import numpy as np\n",
    "from sklearn import cluster\n",
    "from sklearn import metrics\n",
    "import matplotlib.pyplot as plt"
   ]
  },
  {
   "cell_type": "code",
   "execution_count": 37,
   "metadata": {},
   "outputs": [],
   "source": [
    "import seaborn as sns"
   ]
  },
  {
   "cell_type": "markdown",
   "metadata": {
    "id": "PSGo77oGZdoT"
   },
   "source": [
    "### 1. Import the data"
   ]
  },
  {
   "cell_type": "code",
   "execution_count": 3,
   "metadata": {
    "id": "94YMO8LbZdoU"
   },
   "outputs": [],
   "source": [
    "csv_file = 'ais.csv'"
   ]
  },
  {
   "cell_type": "code",
   "execution_count": 5,
   "metadata": {},
   "outputs": [],
   "source": [
    "athletes_df=pd.read_csv(csv_file)"
   ]
  },
  {
   "cell_type": "markdown",
   "metadata": {
    "id": "_OnASLbbZdoW"
   },
   "source": [
    "### 2. Do some EDA of relationships between features."
   ]
  },
  {
   "cell_type": "code",
   "execution_count": 6,
   "metadata": {},
   "outputs": [
    {
     "data": {
      "text/html": [
       "<div>\n",
       "<style scoped>\n",
       "    .dataframe tbody tr th:only-of-type {\n",
       "        vertical-align: middle;\n",
       "    }\n",
       "\n",
       "    .dataframe tbody tr th {\n",
       "        vertical-align: top;\n",
       "    }\n",
       "\n",
       "    .dataframe thead th {\n",
       "        text-align: right;\n",
       "    }\n",
       "</style>\n",
       "<table border=\"1\" class=\"dataframe\">\n",
       "  <thead>\n",
       "    <tr style=\"text-align: right;\">\n",
       "      <th></th>\n",
       "      <th>Unnamed: 0</th>\n",
       "      <th>rcc</th>\n",
       "      <th>wcc</th>\n",
       "      <th>hc</th>\n",
       "      <th>hg</th>\n",
       "      <th>ferr</th>\n",
       "      <th>bmi</th>\n",
       "      <th>ssf</th>\n",
       "      <th>pcBfat</th>\n",
       "      <th>lbm</th>\n",
       "      <th>ht</th>\n",
       "      <th>wt</th>\n",
       "      <th>sex</th>\n",
       "      <th>sport</th>\n",
       "    </tr>\n",
       "  </thead>\n",
       "  <tbody>\n",
       "    <tr>\n",
       "      <th>0</th>\n",
       "      <td>1</td>\n",
       "      <td>3.96</td>\n",
       "      <td>7.5</td>\n",
       "      <td>37.5</td>\n",
       "      <td>12.3</td>\n",
       "      <td>60</td>\n",
       "      <td>20.56</td>\n",
       "      <td>109.1</td>\n",
       "      <td>19.75</td>\n",
       "      <td>63.32</td>\n",
       "      <td>195.9</td>\n",
       "      <td>78.9</td>\n",
       "      <td>f</td>\n",
       "      <td>B_Ball</td>\n",
       "    </tr>\n",
       "    <tr>\n",
       "      <th>1</th>\n",
       "      <td>2</td>\n",
       "      <td>4.41</td>\n",
       "      <td>8.3</td>\n",
       "      <td>38.2</td>\n",
       "      <td>12.7</td>\n",
       "      <td>68</td>\n",
       "      <td>20.67</td>\n",
       "      <td>102.8</td>\n",
       "      <td>21.30</td>\n",
       "      <td>58.55</td>\n",
       "      <td>189.7</td>\n",
       "      <td>74.4</td>\n",
       "      <td>f</td>\n",
       "      <td>B_Ball</td>\n",
       "    </tr>\n",
       "    <tr>\n",
       "      <th>2</th>\n",
       "      <td>3</td>\n",
       "      <td>4.14</td>\n",
       "      <td>5.0</td>\n",
       "      <td>36.4</td>\n",
       "      <td>11.6</td>\n",
       "      <td>21</td>\n",
       "      <td>21.86</td>\n",
       "      <td>104.6</td>\n",
       "      <td>19.88</td>\n",
       "      <td>55.36</td>\n",
       "      <td>177.8</td>\n",
       "      <td>69.1</td>\n",
       "      <td>f</td>\n",
       "      <td>B_Ball</td>\n",
       "    </tr>\n",
       "    <tr>\n",
       "      <th>3</th>\n",
       "      <td>4</td>\n",
       "      <td>4.11</td>\n",
       "      <td>5.3</td>\n",
       "      <td>37.3</td>\n",
       "      <td>12.6</td>\n",
       "      <td>69</td>\n",
       "      <td>21.88</td>\n",
       "      <td>126.4</td>\n",
       "      <td>23.66</td>\n",
       "      <td>57.18</td>\n",
       "      <td>185.0</td>\n",
       "      <td>74.9</td>\n",
       "      <td>f</td>\n",
       "      <td>B_Ball</td>\n",
       "    </tr>\n",
       "    <tr>\n",
       "      <th>4</th>\n",
       "      <td>5</td>\n",
       "      <td>4.45</td>\n",
       "      <td>6.8</td>\n",
       "      <td>41.5</td>\n",
       "      <td>14.0</td>\n",
       "      <td>29</td>\n",
       "      <td>18.96</td>\n",
       "      <td>80.3</td>\n",
       "      <td>17.64</td>\n",
       "      <td>53.20</td>\n",
       "      <td>184.6</td>\n",
       "      <td>64.6</td>\n",
       "      <td>f</td>\n",
       "      <td>B_Ball</td>\n",
       "    </tr>\n",
       "  </tbody>\n",
       "</table>\n",
       "</div>"
      ],
      "text/plain": [
       "   Unnamed: 0   rcc  wcc    hc    hg  ferr    bmi    ssf  pcBfat    lbm  \\\n",
       "0           1  3.96  7.5  37.5  12.3    60  20.56  109.1   19.75  63.32   \n",
       "1           2  4.41  8.3  38.2  12.7    68  20.67  102.8   21.30  58.55   \n",
       "2           3  4.14  5.0  36.4  11.6    21  21.86  104.6   19.88  55.36   \n",
       "3           4  4.11  5.3  37.3  12.6    69  21.88  126.4   23.66  57.18   \n",
       "4           5  4.45  6.8  41.5  14.0    29  18.96   80.3   17.64  53.20   \n",
       "\n",
       "      ht    wt sex   sport  \n",
       "0  195.9  78.9   f  B_Ball  \n",
       "1  189.7  74.4   f  B_Ball  \n",
       "2  177.8  69.1   f  B_Ball  \n",
       "3  185.0  74.9   f  B_Ball  \n",
       "4  184.6  64.6   f  B_Ball  "
      ]
     },
     "execution_count": 6,
     "metadata": {},
     "output_type": "execute_result"
    }
   ],
   "source": [
    "athletes_df.head()"
   ]
  },
  {
   "cell_type": "code",
   "execution_count": 7,
   "metadata": {
    "scrolled": true
   },
   "outputs": [
    {
     "data": {
      "text/plain": [
       "Unnamed: 0    0\n",
       "rcc           0\n",
       "wcc           0\n",
       "hc            0\n",
       "hg            0\n",
       "ferr          0\n",
       "bmi           0\n",
       "ssf           0\n",
       "pcBfat        0\n",
       "lbm           0\n",
       "ht            0\n",
       "wt            0\n",
       "sex           0\n",
       "sport         0\n",
       "dtype: int64"
      ]
     },
     "execution_count": 7,
     "metadata": {},
     "output_type": "execute_result"
    }
   ],
   "source": [
    "athletes_df.isnull().sum()"
   ]
  },
  {
   "cell_type": "code",
   "execution_count": 9,
   "metadata": {},
   "outputs": [
    {
     "data": {
      "text/plain": [
       "Unnamed: 0      int64\n",
       "rcc           float64\n",
       "wcc           float64\n",
       "hc            float64\n",
       "hg            float64\n",
       "ferr            int64\n",
       "bmi           float64\n",
       "ssf           float64\n",
       "pcBfat        float64\n",
       "lbm           float64\n",
       "ht            float64\n",
       "wt            float64\n",
       "sex            object\n",
       "sport          object\n",
       "dtype: object"
      ]
     },
     "execution_count": 9,
     "metadata": {},
     "output_type": "execute_result"
    }
   ],
   "source": [
    "athletes_df.dtypes"
   ]
  },
  {
   "cell_type": "code",
   "execution_count": 8,
   "metadata": {},
   "outputs": [
    {
     "data": {
      "text/html": [
       "<div>\n",
       "<style scoped>\n",
       "    .dataframe tbody tr th:only-of-type {\n",
       "        vertical-align: middle;\n",
       "    }\n",
       "\n",
       "    .dataframe tbody tr th {\n",
       "        vertical-align: top;\n",
       "    }\n",
       "\n",
       "    .dataframe thead th {\n",
       "        text-align: right;\n",
       "    }\n",
       "</style>\n",
       "<table border=\"1\" class=\"dataframe\">\n",
       "  <thead>\n",
       "    <tr style=\"text-align: right;\">\n",
       "      <th></th>\n",
       "      <th>Unnamed: 0</th>\n",
       "      <th>rcc</th>\n",
       "      <th>wcc</th>\n",
       "      <th>hc</th>\n",
       "      <th>hg</th>\n",
       "      <th>ferr</th>\n",
       "      <th>bmi</th>\n",
       "      <th>ssf</th>\n",
       "      <th>pcBfat</th>\n",
       "      <th>lbm</th>\n",
       "      <th>ht</th>\n",
       "      <th>wt</th>\n",
       "    </tr>\n",
       "  </thead>\n",
       "  <tbody>\n",
       "    <tr>\n",
       "      <th>Unnamed: 0</th>\n",
       "      <td>1.000000</td>\n",
       "      <td>0.658358</td>\n",
       "      <td>0.153908</td>\n",
       "      <td>0.660805</td>\n",
       "      <td>0.689778</td>\n",
       "      <td>0.441281</td>\n",
       "      <td>0.266935</td>\n",
       "      <td>-0.543638</td>\n",
       "      <td>-0.674826</td>\n",
       "      <td>0.579148</td>\n",
       "      <td>0.317385</td>\n",
       "      <td>0.370171</td>\n",
       "    </tr>\n",
       "    <tr>\n",
       "      <th>rcc</th>\n",
       "      <td>0.658358</td>\n",
       "      <td>1.000000</td>\n",
       "      <td>0.147064</td>\n",
       "      <td>0.924964</td>\n",
       "      <td>0.888800</td>\n",
       "      <td>0.250865</td>\n",
       "      <td>0.299471</td>\n",
       "      <td>-0.403004</td>\n",
       "      <td>-0.493512</td>\n",
       "      <td>0.550975</td>\n",
       "      <td>0.358854</td>\n",
       "      <td>0.403763</td>\n",
       "    </tr>\n",
       "    <tr>\n",
       "      <th>wcc</th>\n",
       "      <td>0.153908</td>\n",
       "      <td>0.147064</td>\n",
       "      <td>1.000000</td>\n",
       "      <td>0.153333</td>\n",
       "      <td>0.134720</td>\n",
       "      <td>0.132073</td>\n",
       "      <td>0.176968</td>\n",
       "      <td>0.136999</td>\n",
       "      <td>0.107960</td>\n",
       "      <td>0.102663</td>\n",
       "      <td>0.076811</td>\n",
       "      <td>0.155662</td>\n",
       "    </tr>\n",
       "    <tr>\n",
       "      <th>hc</th>\n",
       "      <td>0.660805</td>\n",
       "      <td>0.924964</td>\n",
       "      <td>0.153333</td>\n",
       "      <td>1.000000</td>\n",
       "      <td>0.950757</td>\n",
       "      <td>0.258240</td>\n",
       "      <td>0.320527</td>\n",
       "      <td>-0.449135</td>\n",
       "      <td>-0.532449</td>\n",
       "      <td>0.583375</td>\n",
       "      <td>0.371192</td>\n",
       "      <td>0.423711</td>\n",
       "    </tr>\n",
       "    <tr>\n",
       "      <th>hg</th>\n",
       "      <td>0.689778</td>\n",
       "      <td>0.888800</td>\n",
       "      <td>0.134720</td>\n",
       "      <td>0.950757</td>\n",
       "      <td>1.000000</td>\n",
       "      <td>0.308391</td>\n",
       "      <td>0.382524</td>\n",
       "      <td>-0.435429</td>\n",
       "      <td>-0.531522</td>\n",
       "      <td>0.610986</td>\n",
       "      <td>0.352322</td>\n",
       "      <td>0.455263</td>\n",
       "    </tr>\n",
       "    <tr>\n",
       "      <th>ferr</th>\n",
       "      <td>0.441281</td>\n",
       "      <td>0.250865</td>\n",
       "      <td>0.132073</td>\n",
       "      <td>0.258240</td>\n",
       "      <td>0.308391</td>\n",
       "      <td>1.000000</td>\n",
       "      <td>0.302556</td>\n",
       "      <td>-0.108243</td>\n",
       "      <td>-0.183386</td>\n",
       "      <td>0.317581</td>\n",
       "      <td>0.123255</td>\n",
       "      <td>0.273702</td>\n",
       "    </tr>\n",
       "    <tr>\n",
       "      <th>bmi</th>\n",
       "      <td>0.266935</td>\n",
       "      <td>0.299471</td>\n",
       "      <td>0.176968</td>\n",
       "      <td>0.320527</td>\n",
       "      <td>0.382524</td>\n",
       "      <td>0.302556</td>\n",
       "      <td>1.000000</td>\n",
       "      <td>0.321116</td>\n",
       "      <td>0.187558</td>\n",
       "      <td>0.713858</td>\n",
       "      <td>0.337097</td>\n",
       "      <td>0.845934</td>\n",
       "    </tr>\n",
       "    <tr>\n",
       "      <th>ssf</th>\n",
       "      <td>-0.543638</td>\n",
       "      <td>-0.403004</td>\n",
       "      <td>0.136999</td>\n",
       "      <td>-0.449135</td>\n",
       "      <td>-0.435429</td>\n",
       "      <td>-0.108243</td>\n",
       "      <td>0.321116</td>\n",
       "      <td>1.000000</td>\n",
       "      <td>0.963017</td>\n",
       "      <td>-0.207749</td>\n",
       "      <td>-0.071253</td>\n",
       "      <td>0.154196</td>\n",
       "    </tr>\n",
       "    <tr>\n",
       "      <th>pcBfat</th>\n",
       "      <td>-0.674826</td>\n",
       "      <td>-0.493512</td>\n",
       "      <td>0.107960</td>\n",
       "      <td>-0.532449</td>\n",
       "      <td>-0.531522</td>\n",
       "      <td>-0.183386</td>\n",
       "      <td>0.187558</td>\n",
       "      <td>0.963017</td>\n",
       "      <td>1.000000</td>\n",
       "      <td>-0.361850</td>\n",
       "      <td>-0.188022</td>\n",
       "      <td>-0.000193</td>\n",
       "    </tr>\n",
       "    <tr>\n",
       "      <th>lbm</th>\n",
       "      <td>0.579148</td>\n",
       "      <td>0.550975</td>\n",
       "      <td>0.102663</td>\n",
       "      <td>0.583375</td>\n",
       "      <td>0.610986</td>\n",
       "      <td>0.317581</td>\n",
       "      <td>0.713858</td>\n",
       "      <td>-0.207749</td>\n",
       "      <td>-0.361850</td>\n",
       "      <td>1.000000</td>\n",
       "      <td>0.802119</td>\n",
       "      <td>0.930913</td>\n",
       "    </tr>\n",
       "    <tr>\n",
       "      <th>ht</th>\n",
       "      <td>0.317385</td>\n",
       "      <td>0.358854</td>\n",
       "      <td>0.076811</td>\n",
       "      <td>0.371192</td>\n",
       "      <td>0.352322</td>\n",
       "      <td>0.123255</td>\n",
       "      <td>0.337097</td>\n",
       "      <td>-0.071253</td>\n",
       "      <td>-0.188022</td>\n",
       "      <td>0.802119</td>\n",
       "      <td>1.000000</td>\n",
       "      <td>0.780932</td>\n",
       "    </tr>\n",
       "    <tr>\n",
       "      <th>wt</th>\n",
       "      <td>0.370171</td>\n",
       "      <td>0.403763</td>\n",
       "      <td>0.155662</td>\n",
       "      <td>0.423711</td>\n",
       "      <td>0.455263</td>\n",
       "      <td>0.273702</td>\n",
       "      <td>0.845934</td>\n",
       "      <td>0.154196</td>\n",
       "      <td>-0.000193</td>\n",
       "      <td>0.930913</td>\n",
       "      <td>0.780932</td>\n",
       "      <td>1.000000</td>\n",
       "    </tr>\n",
       "  </tbody>\n",
       "</table>\n",
       "</div>"
      ],
      "text/plain": [
       "            Unnamed: 0       rcc       wcc        hc        hg      ferr  \\\n",
       "Unnamed: 0    1.000000  0.658358  0.153908  0.660805  0.689778  0.441281   \n",
       "rcc           0.658358  1.000000  0.147064  0.924964  0.888800  0.250865   \n",
       "wcc           0.153908  0.147064  1.000000  0.153333  0.134720  0.132073   \n",
       "hc            0.660805  0.924964  0.153333  1.000000  0.950757  0.258240   \n",
       "hg            0.689778  0.888800  0.134720  0.950757  1.000000  0.308391   \n",
       "ferr          0.441281  0.250865  0.132073  0.258240  0.308391  1.000000   \n",
       "bmi           0.266935  0.299471  0.176968  0.320527  0.382524  0.302556   \n",
       "ssf          -0.543638 -0.403004  0.136999 -0.449135 -0.435429 -0.108243   \n",
       "pcBfat       -0.674826 -0.493512  0.107960 -0.532449 -0.531522 -0.183386   \n",
       "lbm           0.579148  0.550975  0.102663  0.583375  0.610986  0.317581   \n",
       "ht            0.317385  0.358854  0.076811  0.371192  0.352322  0.123255   \n",
       "wt            0.370171  0.403763  0.155662  0.423711  0.455263  0.273702   \n",
       "\n",
       "                 bmi       ssf    pcBfat       lbm        ht        wt  \n",
       "Unnamed: 0  0.266935 -0.543638 -0.674826  0.579148  0.317385  0.370171  \n",
       "rcc         0.299471 -0.403004 -0.493512  0.550975  0.358854  0.403763  \n",
       "wcc         0.176968  0.136999  0.107960  0.102663  0.076811  0.155662  \n",
       "hc          0.320527 -0.449135 -0.532449  0.583375  0.371192  0.423711  \n",
       "hg          0.382524 -0.435429 -0.531522  0.610986  0.352322  0.455263  \n",
       "ferr        0.302556 -0.108243 -0.183386  0.317581  0.123255  0.273702  \n",
       "bmi         1.000000  0.321116  0.187558  0.713858  0.337097  0.845934  \n",
       "ssf         0.321116  1.000000  0.963017 -0.207749 -0.071253  0.154196  \n",
       "pcBfat      0.187558  0.963017  1.000000 -0.361850 -0.188022 -0.000193  \n",
       "lbm         0.713858 -0.207749 -0.361850  1.000000  0.802119  0.930913  \n",
       "ht          0.337097 -0.071253 -0.188022  0.802119  1.000000  0.780932  \n",
       "wt          0.845934  0.154196 -0.000193  0.930913  0.780932  1.000000  "
      ]
     },
     "execution_count": 8,
     "metadata": {},
     "output_type": "execute_result"
    }
   ],
   "source": [
    "athletes_df.corr(numeric_only=True)"
   ]
  },
  {
   "cell_type": "markdown",
   "metadata": {
    "id": "NyMRchAMZdoX"
   },
   "source": [
    "### 3. Prepare the data for clustering\n",
    "\n",
    "1. Remove the `sex`, `sport` column. We will see if the clusters from K-Means end up like the actual sex.\n",
    "2. Put the features on the same scale."
   ]
  },
  {
   "cell_type": "code",
   "execution_count": 10,
   "metadata": {
    "id": "5yThA9TqZdoY"
   },
   "outputs": [],
   "source": [
    "# ANSWER\n",
    "X = athletes_df.drop(columns=['sex','sport'],axis=1)"
   ]
  },
  {
   "cell_type": "code",
   "execution_count": 11,
   "metadata": {},
   "outputs": [
    {
     "data": {
      "text/html": [
       "<div>\n",
       "<style scoped>\n",
       "    .dataframe tbody tr th:only-of-type {\n",
       "        vertical-align: middle;\n",
       "    }\n",
       "\n",
       "    .dataframe tbody tr th {\n",
       "        vertical-align: top;\n",
       "    }\n",
       "\n",
       "    .dataframe thead th {\n",
       "        text-align: right;\n",
       "    }\n",
       "</style>\n",
       "<table border=\"1\" class=\"dataframe\">\n",
       "  <thead>\n",
       "    <tr style=\"text-align: right;\">\n",
       "      <th></th>\n",
       "      <th>Unnamed: 0</th>\n",
       "      <th>rcc</th>\n",
       "      <th>wcc</th>\n",
       "      <th>hc</th>\n",
       "      <th>hg</th>\n",
       "      <th>ferr</th>\n",
       "      <th>bmi</th>\n",
       "      <th>ssf</th>\n",
       "      <th>pcBfat</th>\n",
       "      <th>lbm</th>\n",
       "      <th>ht</th>\n",
       "      <th>wt</th>\n",
       "    </tr>\n",
       "  </thead>\n",
       "  <tbody>\n",
       "    <tr>\n",
       "      <th>0</th>\n",
       "      <td>1</td>\n",
       "      <td>3.96</td>\n",
       "      <td>7.5</td>\n",
       "      <td>37.5</td>\n",
       "      <td>12.3</td>\n",
       "      <td>60</td>\n",
       "      <td>20.56</td>\n",
       "      <td>109.1</td>\n",
       "      <td>19.75</td>\n",
       "      <td>63.32</td>\n",
       "      <td>195.9</td>\n",
       "      <td>78.9</td>\n",
       "    </tr>\n",
       "    <tr>\n",
       "      <th>1</th>\n",
       "      <td>2</td>\n",
       "      <td>4.41</td>\n",
       "      <td>8.3</td>\n",
       "      <td>38.2</td>\n",
       "      <td>12.7</td>\n",
       "      <td>68</td>\n",
       "      <td>20.67</td>\n",
       "      <td>102.8</td>\n",
       "      <td>21.30</td>\n",
       "      <td>58.55</td>\n",
       "      <td>189.7</td>\n",
       "      <td>74.4</td>\n",
       "    </tr>\n",
       "    <tr>\n",
       "      <th>2</th>\n",
       "      <td>3</td>\n",
       "      <td>4.14</td>\n",
       "      <td>5.0</td>\n",
       "      <td>36.4</td>\n",
       "      <td>11.6</td>\n",
       "      <td>21</td>\n",
       "      <td>21.86</td>\n",
       "      <td>104.6</td>\n",
       "      <td>19.88</td>\n",
       "      <td>55.36</td>\n",
       "      <td>177.8</td>\n",
       "      <td>69.1</td>\n",
       "    </tr>\n",
       "    <tr>\n",
       "      <th>3</th>\n",
       "      <td>4</td>\n",
       "      <td>4.11</td>\n",
       "      <td>5.3</td>\n",
       "      <td>37.3</td>\n",
       "      <td>12.6</td>\n",
       "      <td>69</td>\n",
       "      <td>21.88</td>\n",
       "      <td>126.4</td>\n",
       "      <td>23.66</td>\n",
       "      <td>57.18</td>\n",
       "      <td>185.0</td>\n",
       "      <td>74.9</td>\n",
       "    </tr>\n",
       "    <tr>\n",
       "      <th>4</th>\n",
       "      <td>5</td>\n",
       "      <td>4.45</td>\n",
       "      <td>6.8</td>\n",
       "      <td>41.5</td>\n",
       "      <td>14.0</td>\n",
       "      <td>29</td>\n",
       "      <td>18.96</td>\n",
       "      <td>80.3</td>\n",
       "      <td>17.64</td>\n",
       "      <td>53.20</td>\n",
       "      <td>184.6</td>\n",
       "      <td>64.6</td>\n",
       "    </tr>\n",
       "  </tbody>\n",
       "</table>\n",
       "</div>"
      ],
      "text/plain": [
       "   Unnamed: 0   rcc  wcc    hc    hg  ferr    bmi    ssf  pcBfat    lbm  \\\n",
       "0           1  3.96  7.5  37.5  12.3    60  20.56  109.1   19.75  63.32   \n",
       "1           2  4.41  8.3  38.2  12.7    68  20.67  102.8   21.30  58.55   \n",
       "2           3  4.14  5.0  36.4  11.6    21  21.86  104.6   19.88  55.36   \n",
       "3           4  4.11  5.3  37.3  12.6    69  21.88  126.4   23.66  57.18   \n",
       "4           5  4.45  6.8  41.5  14.0    29  18.96   80.3   17.64  53.20   \n",
       "\n",
       "      ht    wt  \n",
       "0  195.9  78.9  \n",
       "1  189.7  74.4  \n",
       "2  177.8  69.1  \n",
       "3  185.0  74.9  \n",
       "4  184.6  64.6  "
      ]
     },
     "execution_count": 11,
     "metadata": {},
     "output_type": "execute_result"
    }
   ],
   "source": [
    "X.head()"
   ]
  },
  {
   "cell_type": "code",
   "execution_count": 12,
   "metadata": {},
   "outputs": [],
   "source": [
    "from sklearn.preprocessing import StandardScaler"
   ]
  },
  {
   "cell_type": "code",
   "execution_count": 13,
   "metadata": {},
   "outputs": [],
   "source": [
    "scaler = StandardScaler()"
   ]
  },
  {
   "cell_type": "code",
   "execution_count": 15,
   "metadata": {},
   "outputs": [],
   "source": [
    "Xss = scaler.fit_transform(X)"
   ]
  },
  {
   "cell_type": "code",
   "execution_count": 16,
   "metadata": {},
   "outputs": [
    {
     "data": {
      "text/plain": [
       "array([[-1.72349742, -1.66056304,  0.21777075, ..., -0.11916982,\n",
       "         1.62671873,  0.2801934 ],\n",
       "       [-1.70634819, -0.67553837,  0.66323597, ..., -0.48502895,\n",
       "         0.98822602, -0.04376463],\n",
       "       [-1.68919896, -1.26655317, -1.17430808, ..., -0.72970203,\n",
       "        -0.23726805, -0.42531519],\n",
       "       ...,\n",
       "       [ 1.68919896,  0.68160673, -0.39474394, ...,  0.23978631,\n",
       "         0.30854023, -0.08695903],\n",
       "       [ 1.70634819,  0.55027011,  0.94165174, ..., -0.14371383,\n",
       "        -0.17547843, -0.28133385],\n",
       "       [ 1.72349742,  1.44773703, -0.45042709, ...,  0.54658641,\n",
       "         1.10150699,  0.12181392]])"
      ]
     },
     "execution_count": 16,
     "metadata": {},
     "output_type": "execute_result"
    }
   ],
   "source": [
    "Xss"
   ]
  },
  {
   "cell_type": "markdown",
   "metadata": {
    "id": "Y8jUYWkpZdoa"
   },
   "source": [
    "### 4. Clustering with K-Means\n",
    "\n",
    "- Cluster the data to our target groups.\n",
    "    - Use sklearn.cluster.KMeans\n",
    "- We know that there are 2 actual classes. Let's try using 2, 4. Run the clustering algorithm with each of those k values."
   ]
  },
  {
   "cell_type": "code",
   "execution_count": 21,
   "metadata": {},
   "outputs": [],
   "source": [
    "from sklearn.cluster import KMeans"
   ]
  },
  {
   "cell_type": "code",
   "execution_count": 26,
   "metadata": {
    "id": "nCosKVDJZdob"
   },
   "outputs": [
    {
     "name": "stderr",
     "output_type": "stream",
     "text": [
      "C:\\Users\\willv\\anaconda3\\Lib\\site-packages\\sklearn\\cluster\\_kmeans.py:870: FutureWarning: The default value of `n_init` will change from 10 to 'auto' in 1.4. Set the value of `n_init` explicitly to suppress the warning\n",
      "  warnings.warn(\n"
     ]
    },
    {
     "data": {
      "text/html": [
       "<style>#sk-container-id-3 {color: black;background-color: white;}#sk-container-id-3 pre{padding: 0;}#sk-container-id-3 div.sk-toggleable {background-color: white;}#sk-container-id-3 label.sk-toggleable__label {cursor: pointer;display: block;width: 100%;margin-bottom: 0;padding: 0.3em;box-sizing: border-box;text-align: center;}#sk-container-id-3 label.sk-toggleable__label-arrow:before {content: \"▸\";float: left;margin-right: 0.25em;color: #696969;}#sk-container-id-3 label.sk-toggleable__label-arrow:hover:before {color: black;}#sk-container-id-3 div.sk-estimator:hover label.sk-toggleable__label-arrow:before {color: black;}#sk-container-id-3 div.sk-toggleable__content {max-height: 0;max-width: 0;overflow: hidden;text-align: left;background-color: #f0f8ff;}#sk-container-id-3 div.sk-toggleable__content pre {margin: 0.2em;color: black;border-radius: 0.25em;background-color: #f0f8ff;}#sk-container-id-3 input.sk-toggleable__control:checked~div.sk-toggleable__content {max-height: 200px;max-width: 100%;overflow: auto;}#sk-container-id-3 input.sk-toggleable__control:checked~label.sk-toggleable__label-arrow:before {content: \"▾\";}#sk-container-id-3 div.sk-estimator input.sk-toggleable__control:checked~label.sk-toggleable__label {background-color: #d4ebff;}#sk-container-id-3 div.sk-label input.sk-toggleable__control:checked~label.sk-toggleable__label {background-color: #d4ebff;}#sk-container-id-3 input.sk-hidden--visually {border: 0;clip: rect(1px 1px 1px 1px);clip: rect(1px, 1px, 1px, 1px);height: 1px;margin: -1px;overflow: hidden;padding: 0;position: absolute;width: 1px;}#sk-container-id-3 div.sk-estimator {font-family: monospace;background-color: #f0f8ff;border: 1px dotted black;border-radius: 0.25em;box-sizing: border-box;margin-bottom: 0.5em;}#sk-container-id-3 div.sk-estimator:hover {background-color: #d4ebff;}#sk-container-id-3 div.sk-parallel-item::after {content: \"\";width: 100%;border-bottom: 1px solid gray;flex-grow: 1;}#sk-container-id-3 div.sk-label:hover label.sk-toggleable__label {background-color: #d4ebff;}#sk-container-id-3 div.sk-serial::before {content: \"\";position: absolute;border-left: 1px solid gray;box-sizing: border-box;top: 0;bottom: 0;left: 50%;z-index: 0;}#sk-container-id-3 div.sk-serial {display: flex;flex-direction: column;align-items: center;background-color: white;padding-right: 0.2em;padding-left: 0.2em;position: relative;}#sk-container-id-3 div.sk-item {position: relative;z-index: 1;}#sk-container-id-3 div.sk-parallel {display: flex;align-items: stretch;justify-content: center;background-color: white;position: relative;}#sk-container-id-3 div.sk-item::before, #sk-container-id-3 div.sk-parallel-item::before {content: \"\";position: absolute;border-left: 1px solid gray;box-sizing: border-box;top: 0;bottom: 0;left: 50%;z-index: -1;}#sk-container-id-3 div.sk-parallel-item {display: flex;flex-direction: column;z-index: 1;position: relative;background-color: white;}#sk-container-id-3 div.sk-parallel-item:first-child::after {align-self: flex-end;width: 50%;}#sk-container-id-3 div.sk-parallel-item:last-child::after {align-self: flex-start;width: 50%;}#sk-container-id-3 div.sk-parallel-item:only-child::after {width: 0;}#sk-container-id-3 div.sk-dashed-wrapped {border: 1px dashed gray;margin: 0 0.4em 0.5em 0.4em;box-sizing: border-box;padding-bottom: 0.4em;background-color: white;}#sk-container-id-3 div.sk-label label {font-family: monospace;font-weight: bold;display: inline-block;line-height: 1.2em;}#sk-container-id-3 div.sk-label-container {text-align: center;}#sk-container-id-3 div.sk-container {/* jupyter's `normalize.less` sets `[hidden] { display: none; }` but bootstrap.min.css set `[hidden] { display: none !important; }` so we also need the `!important` here to be able to override the default hidden behavior on the sphinx rendered scikit-learn.org. See: https://github.com/scikit-learn/scikit-learn/issues/21755 */display: inline-block !important;position: relative;}#sk-container-id-3 div.sk-text-repr-fallback {display: none;}</style><div id=\"sk-container-id-3\" class=\"sk-top-container\"><div class=\"sk-text-repr-fallback\"><pre>KMeans(n_clusters=2)</pre><b>In a Jupyter environment, please rerun this cell to show the HTML representation or trust the notebook. <br />On GitHub, the HTML representation is unable to render, please try loading this page with nbviewer.org.</b></div><div class=\"sk-container\" hidden><div class=\"sk-item\"><div class=\"sk-estimator sk-toggleable\"><input class=\"sk-toggleable__control sk-hidden--visually\" id=\"sk-estimator-id-3\" type=\"checkbox\" checked><label for=\"sk-estimator-id-3\" class=\"sk-toggleable__label sk-toggleable__label-arrow\">KMeans</label><div class=\"sk-toggleable__content\"><pre>KMeans(n_clusters=2)</pre></div></div></div></div></div>"
      ],
      "text/plain": [
       "KMeans(n_clusters=2)"
      ]
     },
     "execution_count": 26,
     "metadata": {},
     "output_type": "execute_result"
    }
   ],
   "source": [
    "# ANSWER\n",
    "K=2\n",
    "\n",
    "k_means2 = KMeans(n_clusters=K)\n",
    "\n",
    "k_means2.fit(Xss)"
   ]
  },
  {
   "cell_type": "markdown",
   "metadata": {
    "id": "jAI-4X61Zdod"
   },
   "source": [
    "### 5. Get the labels for the models using the labels_ attribute."
   ]
  },
  {
   "cell_type": "code",
   "execution_count": 33,
   "metadata": {
    "id": "5LeJLcCxZdoe"
   },
   "outputs": [],
   "source": [
    "# ANSWER\n",
    "label2= k_means2.labels_"
   ]
  },
  {
   "cell_type": "markdown",
   "metadata": {
    "id": "ichQ8nF_Zdog"
   },
   "source": [
    "### 6. Elbow Method For Optimal k\n",
    "\n",
    "For each k value, we will initialize k-means and use the inertia attribute to identify the sum of squared distances of samples to the nearest cluster centre. As k increases, the sum of squared distance tends to zero."
   ]
  },
  {
   "cell_type": "code",
   "execution_count": 28,
   "metadata": {
    "id": "g77PHUcgZdoh"
   },
   "outputs": [
    {
     "name": "stderr",
     "output_type": "stream",
     "text": [
      "C:\\Users\\willv\\anaconda3\\Lib\\site-packages\\sklearn\\cluster\\_kmeans.py:870: FutureWarning: The default value of `n_init` will change from 10 to 'auto' in 1.4. Set the value of `n_init` explicitly to suppress the warning\n",
      "  warnings.warn(\n",
      "C:\\Users\\willv\\anaconda3\\Lib\\site-packages\\sklearn\\cluster\\_kmeans.py:870: FutureWarning: The default value of `n_init` will change from 10 to 'auto' in 1.4. Set the value of `n_init` explicitly to suppress the warning\n",
      "  warnings.warn(\n",
      "C:\\Users\\willv\\anaconda3\\Lib\\site-packages\\sklearn\\cluster\\_kmeans.py:870: FutureWarning: The default value of `n_init` will change from 10 to 'auto' in 1.4. Set the value of `n_init` explicitly to suppress the warning\n",
      "  warnings.warn(\n",
      "C:\\Users\\willv\\anaconda3\\Lib\\site-packages\\sklearn\\cluster\\_kmeans.py:870: FutureWarning: The default value of `n_init` will change from 10 to 'auto' in 1.4. Set the value of `n_init` explicitly to suppress the warning\n",
      "  warnings.warn(\n",
      "C:\\Users\\willv\\anaconda3\\Lib\\site-packages\\sklearn\\cluster\\_kmeans.py:870: FutureWarning: The default value of `n_init` will change from 10 to 'auto' in 1.4. Set the value of `n_init` explicitly to suppress the warning\n",
      "  warnings.warn(\n",
      "C:\\Users\\willv\\anaconda3\\Lib\\site-packages\\sklearn\\cluster\\_kmeans.py:870: FutureWarning: The default value of `n_init` will change from 10 to 'auto' in 1.4. Set the value of `n_init` explicitly to suppress the warning\n",
      "  warnings.warn(\n",
      "C:\\Users\\willv\\anaconda3\\Lib\\site-packages\\sklearn\\cluster\\_kmeans.py:870: FutureWarning: The default value of `n_init` will change from 10 to 'auto' in 1.4. Set the value of `n_init` explicitly to suppress the warning\n",
      "  warnings.warn(\n",
      "C:\\Users\\willv\\anaconda3\\Lib\\site-packages\\sklearn\\cluster\\_kmeans.py:870: FutureWarning: The default value of `n_init` will change from 10 to 'auto' in 1.4. Set the value of `n_init` explicitly to suppress the warning\n",
      "  warnings.warn(\n",
      "C:\\Users\\willv\\anaconda3\\Lib\\site-packages\\sklearn\\cluster\\_kmeans.py:870: FutureWarning: The default value of `n_init` will change from 10 to 'auto' in 1.4. Set the value of `n_init` explicitly to suppress the warning\n",
      "  warnings.warn(\n",
      "C:\\Users\\willv\\anaconda3\\Lib\\site-packages\\sklearn\\cluster\\_kmeans.py:870: FutureWarning: The default value of `n_init` will change from 10 to 'auto' in 1.4. Set the value of `n_init` explicitly to suppress the warning\n",
      "  warnings.warn(\n",
      "C:\\Users\\willv\\anaconda3\\Lib\\site-packages\\sklearn\\cluster\\_kmeans.py:870: FutureWarning: The default value of `n_init` will change from 10 to 'auto' in 1.4. Set the value of `n_init` explicitly to suppress the warning\n",
      "  warnings.warn(\n",
      "C:\\Users\\willv\\anaconda3\\Lib\\site-packages\\sklearn\\cluster\\_kmeans.py:870: FutureWarning: The default value of `n_init` will change from 10 to 'auto' in 1.4. Set the value of `n_init` explicitly to suppress the warning\n",
      "  warnings.warn(\n",
      "C:\\Users\\willv\\anaconda3\\Lib\\site-packages\\sklearn\\cluster\\_kmeans.py:870: FutureWarning: The default value of `n_init` will change from 10 to 'auto' in 1.4. Set the value of `n_init` explicitly to suppress the warning\n",
      "  warnings.warn(\n",
      "C:\\Users\\willv\\anaconda3\\Lib\\site-packages\\sklearn\\cluster\\_kmeans.py:870: FutureWarning: The default value of `n_init` will change from 10 to 'auto' in 1.4. Set the value of `n_init` explicitly to suppress the warning\n",
      "  warnings.warn(\n"
     ]
    }
   ],
   "source": [
    "# ANSWER\n",
    "sum_of_sqrd_dist= []\n",
    "K = range (1,15)\n",
    "\n",
    "for k in K:\n",
    "    km = KMeans(n_clusters=k)\n",
    "    km.fit(Xss)\n",
    "    sum_of_sqrd_dist.append(km.inertia_)"
   ]
  },
  {
   "cell_type": "markdown",
   "metadata": {
    "id": "rgTQLaSNZdoj"
   },
   "source": [
    "Below is a plot of sum of squared distances for k in the range specified above. If the plot looks like an arm, then the elbow on the arm is optimal k."
   ]
  },
  {
   "cell_type": "code",
   "execution_count": 32,
   "metadata": {
    "id": "pbJ_EZRGZdok"
   },
   "outputs": [
    {
     "data": {
      "text/plain": [
       "[<matplotlib.lines.Line2D at 0x28e97de6090>]"
      ]
     },
     "execution_count": 32,
     "metadata": {},
     "output_type": "execute_result"
    },
    {
     "data": {
      "image/png": "[encoded data removed]",
      "text/plain": [
       "<Figure size 640x480 with 1 Axes>"
      ]
     },
     "metadata": {},
     "output_type": "display_data"
    }
   ],
   "source": [
    "# ANSWER\n",
    "plt.plot(K,sum_of_sqrd_dist,'bx-')"
   ]
  },
  {
   "cell_type": "markdown",
   "metadata": {
    "id": "nCs5g-pLZdom"
   },
   "source": [
    "### 7. Plot `wt` vs. `pcBfat` using the clusters from each model.\n",
    "\n",
    "- Plot wt, pcBfat using hue sex\n",
    "- Plot wt, pcBfat using hue label\n",
    "\n",
    "The labels calculated above can be a new column of the dataset."
   ]
  },
  {
   "cell_type": "code",
   "execution_count": 34,
   "metadata": {},
   "outputs": [],
   "source": [
    "ais_labels = athletes_df\n",
    "ais_labels['label2'] = label2"
   ]
  },
  {
   "cell_type": "code",
   "execution_count": 45,
   "metadata": {
    "id": "qNDCuP1bZdon"
   },
   "outputs": [
    {
     "data": {
      "text/plain": [
       "<seaborn.axisgrid.FacetGrid at 0x28e99e2a810>"
      ]
     },
     "execution_count": 45,
     "metadata": {},
     "output_type": "execute_result"
    },
    {
     "data": {
      "image/png": "[encoded data removed]",
      "text/plain": [
       "<Figure size 563.5x500 with 1 Axes>"
      ]
     },
     "metadata": {},
     "output_type": "display_data"
    },
    {
     "data": {
      "image/png": "[encoded data removed]",
      "text/plain": [
       "<Figure size 558.875x500 with 1 Axes>"
      ]
     },
     "metadata": {},
     "output_type": "display_data"
    }
   ],
   "source": [
    "# ANSWER\n",
    "sns.lmplot(data= ais_labels,x='wt',y='pcBfat' , hue='sex',fit_reg=False)\n",
    "sns.lmplot(data= ais_labels,x='wt',y='pcBfat' , hue='label2',fit_reg=False)"
   ]
  },
  {
   "cell_type": "markdown",
   "metadata": {
    "id": "n5gar-w0j2Tr"
   },
   "source": [
    "\n",
    "\n",
    "---\n",
    "\n",
    "\n",
    "\n",
    "---\n",
    "\n",
    "\n",
    "\n",
    "> > > > > > > > > © 2024 Institute of Data\n",
    "\n",
    "\n",
    "---\n",
    "\n",
    "\n",
    "\n",
    "---\n",
    "\n",
    "\n",
    "\n"
   ]
  }
 ],
 "metadata": {
  "colab": {
   "provenance": []
  },
  "kernelspec": {
   "display_name": "Python 3 (ipykernel)",
   "language": "python",
   "name": "python3"
  },
  "language_info": {
   "codemirror_mode": {
    "name": "ipython",
    "version": 3
   },
   "file_extension": ".py",
   "mimetype": "text/x-python",
   "name": "python",
   "nbconvert_exporter": "python",
   "pygments_lexer": "ipython3",
   "version": "3.11.7"
  }
 },
 "nbformat": 4,
 "nbformat_minor": 1
}
